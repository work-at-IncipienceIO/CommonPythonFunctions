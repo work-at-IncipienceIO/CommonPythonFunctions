{
 "cells": [
  {
   "cell_type": "code",
   "execution_count": null,
   "metadata": {},
   "outputs": [],
   "source": [
    "def check_missing_values_table(df):\n",
    "           \n",
    "           # Total missing value count for each attributes\n",
    "            mis_val = df.isnull().sum()\n",
    "\n",
    "            # Percentage of missing values per attribute\n",
    "            mis_val_percent = 100 * df.isnull().sum() / len(df)\n",
    "\n",
    "            # Make a table with the results\n",
    "            mis_val_table = pd.concat([mis_val, mis_val_percent], axis=1)\n",
    "\n",
    "            # Rename the attributes\n",
    "            mis_val_table_adj = mis_val_table.rename(\n",
    "            columns = {0 : 'Missing Values', 1 : '% of Total Values'})\n",
    "\n",
    "            # Sort the table by percentage of missing descending\n",
    "            mis_val_table_adj = mis_val_table_adj[\n",
    "                mis_val_table_adj.iloc[:,1] != 0].sort_values(\n",
    "            '% of Total Values', ascending=True).round(1)\n",
    "\n",
    "            # Print some summary information\n",
    "            print (\"Data has \" + str(df.shape[1]) + \" columns.\\n\"      \n",
    "                \"and there are \" + str(mis_val_table_adj.shape[0]) +\n",
    "                  \" columns that have missing values.\")\n",
    "\n",
    "            # Return the dataframe with missing information\n",
    "            return mis_val_table_adj"
   ]
  }
 ],
 "metadata": {
  "kernelspec": {
   "display_name": "Python 3",
   "language": "python",
   "name": "python3"
  },
  "language_info": {
   "codemirror_mode": {
    "name": "ipython",
    "version": 3
   },
   "file_extension": ".py",
   "mimetype": "text/x-python",
   "name": "python",
   "nbconvert_exporter": "python",
   "pygments_lexer": "ipython3",
   "version": "3.6.8"
  }
 },
 "nbformat": 4,
 "nbformat_minor": 2
}
